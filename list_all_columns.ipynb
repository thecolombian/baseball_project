{
 "cells": [
  {
   "cell_type": "code",
   "execution_count": 1,
   "id": "a9cf25f4-3997-4ba7-9b9e-c9790846c759",
   "metadata": {},
   "outputs": [
    {
     "name": "stdout",
     "output_type": "stream",
     "text": [
      "Player data structure: {'Rank': '1', 'Player': 'Ichiro\\xa0Suzuki', 'AgeThatYear': '30', 'Hits': 262, 'Year': 2004, 'Bats': 'L', 'id': 1}\n"
     ]
    }
   ],
   "source": [
    "import requests\n",
    "\n",
    "# Fetch data from API\n",
    "url = 'https://api.sampleapis.com/baseball/hitsSingleSeason'\n",
    "response = requests.get(url)\n",
    "\n",
    "# Check if the request was successful\n",
    "if response.status_code == 200:\n",
    "    try:\n",
    "        players = response.json()\n",
    "        # Print the structure of the first player to understand the columns\n",
    "        if isinstance(players, list) and len(players) > 0:\n",
    "            print(\"Player data structure:\", players[0])\n",
    "        else:\n",
    "            print(\"No player data found.\")\n",
    "    except requests.exceptions.JSONDecodeError:\n",
    "        print(\"Error decoding JSON from response.\")\n",
    "else:\n",
    "    print(f\"Error fetching data: {response.status_code}\")\n"
   ]
  },
  {
   "cell_type": "code",
   "execution_count": null,
   "id": "159beb1b-d1ab-429e-8a67-d8d42839062a",
   "metadata": {},
   "outputs": [],
   "source": []
  }
 ],
 "metadata": {
  "kernelspec": {
   "display_name": "Python 3 (ipykernel)",
   "language": "python",
   "name": "python3"
  },
  "language_info": {
   "codemirror_mode": {
    "name": "ipython",
    "version": 3
   },
   "file_extension": ".py",
   "mimetype": "text/x-python",
   "name": "python",
   "nbconvert_exporter": "python",
   "pygments_lexer": "ipython3",
   "version": "3.10.14"
  }
 },
 "nbformat": 4,
 "nbformat_minor": 5
}
